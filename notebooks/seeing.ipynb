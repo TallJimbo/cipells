{
 "cells": [
  {
   "cell_type": "code",
   "execution_count": 1,
   "metadata": {},
   "outputs": [],
   "source": [
    "import sys\n",
    "import os\n",
    "sys.path.append(os.path.abspath(os.path.join(\"..\", \"build\")))"
   ]
  },
  {
   "cell_type": "code",
   "execution_count": 2,
   "metadata": {},
   "outputs": [],
   "source": [
    "from cipells.experiments.continuous1d import *"
   ]
  },
  {
   "cell_type": "code",
   "execution_count": 3,
   "metadata": {},
   "outputs": [],
   "source": [
    "import numpy as np\n",
    "from matplotlib import pyplot, colors\n",
    "%matplotlib notebook"
   ]
  },
  {
   "cell_type": "code",
   "execution_count": 68,
   "metadata": {},
   "outputs": [],
   "source": [
    "FWHM_FACTOR = 2*np.sqrt(2*np.log(2))\n",
    "PIXEL_SCALE = 0.10"
   ]
  },
  {
   "cell_type": "code",
   "execution_count": 187,
   "metadata": {},
   "outputs": [],
   "source": [
    "cellA = {i + 1: Gaussian(scaling=s/(PIXEL_SCALE*FWHM_FACTOR)) for i, s in enumerate([0.65, 0.68, 0.70, 0.85])}"
   ]
  },
  {
   "cell_type": "code",
   "execution_count": 188,
   "metadata": {},
   "outputs": [],
   "source": [
    "cellB = {n: psf for n, psf in cellA.items() if n != 4}"
   ]
  },
  {
   "cell_type": "code",
   "execution_count": 193,
   "metadata": {},
   "outputs": [],
   "source": [
    "cellC = {n: psf for n, psf in cellA.items() if n != 1}"
   ]
  },
  {
   "cell_type": "code",
   "execution_count": 194,
   "metadata": {},
   "outputs": [],
   "source": [
    "def computeCoaddPsfSize(cell):\n",
    "    x = np.concatenate([np.arange(0, 32, dtype=float),\n",
    "                        np.arange(-32, 0, dtype=float)])\n",
    "    f_z = None\n",
    "    for n, psf in cell.items():\n",
    "        v = psf(x)\n",
    "        pyplot.plot(v, label=str(n))\n",
    "        t = np.fft.rfft(v)\n",
    "        if f_z is None:\n",
    "            f_z = t**2\n",
    "        else:\n",
    "            f_z += t**2\n",
    "    f_z = f_z**0.5\n",
    "    z = np.fft.irfft(f_z, n=len(x))\n",
    "    pyplot.plot(z/z.sum(), \"--\", label=\"coadd\")\n",
    "    pyplot.legend()\n",
    "    neff = z.sum()**2/(z**2).sum()\n",
    "    r = neff/(2*np.pi**0.5)\n",
    "    return r"
   ]
  },
  {
   "cell_type": "code",
   "execution_count": 196,
   "metadata": {},
   "outputs": [
    {
     "data": {
      "text/plain": [
       "0.73608247422680462"
      ]
     },
     "execution_count": 196,
     "metadata": {},
     "output_type": "execute_result"
    },
    {
     "data": {
      "image/png": "[encoded data removed]",
      "text/plain": [
       "<matplotlib.figure.Figure at 0x7fdfb3a4c860>"
      ]
     },
     "metadata": {},
     "output_type": "display_data"
    }
   ],
   "source": [
    "computeCoaddPsfSize(cellC)*PIXEL_SCALE*FWHM_FACTOR"
   ]
  },
  {
   "cell_type": "code",
   "execution_count": 178,
   "metadata": {},
   "outputs": [
    {
     "data": {
      "text/plain": [
       "{1: Gaussian(scaling=5.0, offset=0.0, flux=1.0),\n",
       " 2: Gaussian(scaling=5.5, offset=0.0, flux=1.0),\n",
       " 3: Gaussian(scaling=5.8, offset=0.0, flux=1.0),\n",
       " 4: Gaussian(scaling=6.2, offset=0.0, flux=1.0)}"
      ]
     },
     "execution_count": 178,
     "metadata": {},
     "output_type": "execute_result"
    }
   ],
   "source": [
    "cellA"
   ]
  },
  {
   "cell_type": "code",
   "execution_count": null,
   "metadata": {},
   "outputs": [],
   "source": []
  }
 ],
 "metadata": {
  "kernelspec": {
   "display_name": "Python 3",
   "language": "python",
   "name": "python3"
  },
  "language_info": {
   "codemirror_mode": {
    "name": "ipython",
    "version": 3
   },
   "file_extension": ".py",
   "mimetype": "text/x-python",
   "name": "python",
   "nbconvert_exporter": "python",
   "pygments_lexer": "ipython3",
   "version": "3.6.2"
  }
 },
 "nbformat": 4,
 "nbformat_minor": 2
}
